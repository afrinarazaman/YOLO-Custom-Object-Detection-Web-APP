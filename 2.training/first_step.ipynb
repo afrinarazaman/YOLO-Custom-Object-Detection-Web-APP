{
  "nbformat": 4,
  "nbformat_minor": 0,
  "metadata": {
    "colab": {
      "provenance": []
    },
    "kernelspec": {
      "name": "python3",
      "display_name": "Python 3"
    },
    "language_info": {
      "name": "python"
    }
  },
  "cells": [
    {
      "cell_type": "code",
      "execution_count": null,
      "metadata": {
        "colab": {
          "base_uri": "https://localhost:8080/"
        },
        "id": "y9q6wHIoAjXL",
        "outputId": "5f519750-e52d-44bf-d3df-666669623ba7"
      },
      "outputs": [
        {
          "output_type": "stream",
          "name": "stdout",
          "text": [
            "Mounted at /content/drive\n"
          ]
        }
      ],
      "source": [
        "from google.colab import drive\n",
        "drive.mount('/content/drive')\n"
      ]
    },
    {
      "cell_type": "code",
      "source": [
        "import os\n",
        "\n",
        "folder_path = \"/content/drive/My Drive/vision_project_folder\"\n",
        "\n",
        "if not os.path.exists(folder_path):\n",
        "    os.makedirs(folder_path)\n",
        "    print(f\"Folder '{folder_path}' created successfully!\")\n",
        "else:\n",
        "    print(f\"Folder '{folder_path}' already exists.\")\n"
      ],
      "metadata": {
        "colab": {
          "base_uri": "https://localhost:8080/"
        },
        "id": "bGuqAxZeAkQ2",
        "outputId": "df394347-40a8-4684-fb56-69dfa991b27c"
      },
      "execution_count": null,
      "outputs": [
        {
          "output_type": "stream",
          "name": "stdout",
          "text": [
            "Folder '/content/drive/My Drive/vision_project_folder' created successfully!\n"
          ]
        }
      ]
    },
    {
      "cell_type": "code",
      "source": [
        "%cd /content/drive/My Drive/vision_project_folder\n"
      ],
      "metadata": {
        "colab": {
          "base_uri": "https://localhost:8080/"
        },
        "id": "vXJKCLalA4Jp",
        "outputId": "81d72881-b6e4-4320-aee5-49592377c928"
      },
      "execution_count": null,
      "outputs": [
        {
          "output_type": "stream",
          "name": "stdout",
          "text": [
            "/content/drive/My Drive/vision_project_folder\n"
          ]
        }
      ]
    },
    {
      "cell_type": "code",
      "source": [
        "!git clone https://github.com/ultralytics/yolov5.git\n"
      ],
      "metadata": {
        "colab": {
          "base_uri": "https://localhost:8080/"
        },
        "id": "tdV-AbYbA_Yc",
        "outputId": "ab2d3cf9-0099-45a7-e685-667a2bcb715e"
      },
      "execution_count": null,
      "outputs": [
        {
          "output_type": "stream",
          "name": "stdout",
          "text": [
            "Cloning into 'yolov5'...\n",
            "remote: Enumerating objects: 17270, done.\u001b[K\n",
            "remote: Counting objects: 100% (1/1), done.\u001b[K\n",
            "remote: Total 17270 (delta 0), reused 0 (delta 0), pack-reused 17269 (from 2)\u001b[K\n",
            "Receiving objects: 100% (17270/17270), 16.12 MiB | 11.20 MiB/s, done.\n",
            "Resolving deltas: 100% (11858/11858), done.\n",
            "Updating files: 100% (146/146), done.\n"
          ]
        }
      ]
    },
    {
      "cell_type": "code",
      "source": [
        "notebook_path = \"/content/drive/My Drive/vision_project_folder/trainig_model.ipynb\"\n"
      ],
      "metadata": {
        "id": "msBCTpikBnVg"
      },
      "execution_count": null,
      "outputs": []
    },
    {
      "cell_type": "code",
      "source": [
        "with open(notebook_path, \"w\") as f:\n",
        "    f.write('{\"cells\": [], \"metadata\": {}, \"nbformat\": 4, \"nbformat_minor\": 4}')\n",
        "\n",
        "print(f\"Notebook created: {notebook_path}\")"
      ],
      "metadata": {
        "colab": {
          "base_uri": "https://localhost:8080/"
        },
        "id": "Q5Hdz7n7B7ho",
        "outputId": "e98a0c9d-beda-4ff8-c8cd-5b0476919bd4"
      },
      "execution_count": null,
      "outputs": [
        {
          "output_type": "stream",
          "name": "stdout",
          "text": [
            "Notebook created: /content/drive/My Drive/vision_project_folder/trainig_model.ipynb\n"
          ]
        }
      ]
    },
    {
      "cell_type": "code",
      "source": [],
      "metadata": {
        "id": "s4H-qh5dChEX"
      },
      "execution_count": null,
      "outputs": []
    }
  ]
}